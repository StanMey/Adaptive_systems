{
 "cells": [
  {
   "cell_type": "markdown",
   "metadata": {
    "id": "view-in-github"
   },
   "source": [
    "<a href=\"https://colab.research.google.com/github/basanaz/hu-reinforcement-learning-gym/blob/master/1_Hogeschool_Utrecht_Reinforcement_Learning_project_Q_Learning.ipynb\" target=\"_parent\"><img src=\"https://colab.research.google.com/assets/colab-badge.svg\" alt=\"Open In Colab\"/></a>"
   ]
  },
  {
   "cell_type": "markdown",
   "metadata": {
    "id": "6eU2QJ--T4dd"
   },
   "source": [
    "# Reinforcement Learning project - Q-Learning\n",
    "\n",
    "\n"
   ]
  },
  {
   "cell_type": "markdown",
   "metadata": {
    "id": "6qdkwbpRUhzO"
   },
   "source": [
    "## Aim\n",
    "In this lab we are going to solve two simple [OpenAI Gym](https://gym.openai.com/) environments using [Q-Learning](https://en.wikipedia.org/wiki/Q-learning). Specifically, the [CartPole-v0](https://gym.openai.com/envs/CartPole-v0/) and [MountainCar-v0](https://gym.openai.com/envs/MountainCar-v0/) environments.\n",
    "\n",
    "We will try to create a table containing the expected reward for each combination of a *state* and *action*. We will use this table to choose the (hopefully) best action given the state the system is in.\n",
    "\n",
    "While this may not be the most advanced or complicated model there is, it is perfect for this task! Furthermore, it can be trained in a relatively short time!\n",
    "\n",
    "## Runtime and environment\n",
    "This [Jupyter Notebook](https://jupyterlab.readthedocs.io/en/latest/) was made to run on Google Colab. For this training, we recommend using the Google Colab environment.\n",
    "\n",
    "Please read the [instructions on Google Colab](https://medium.com/swlh/the-best-place-to-get-started-with-ai-google-colab-tutorial-for-beginners-715e64bb603b) to get started quickly. It behaves similar to Jupyter Notebook, Jupyter Hub and Jupyter Lab, so if you have any experience with those, you're good to go!\n",
    "\n",
    "Some notes on Google Colab:\n",
    "- **Processes in Google Colab won't run forever**. These may be terminated at any time when the platform is crowded, and *will definitely* terminate after 12 hours. To maintain persistency, you can attach the session to **Google Drive** and have your models persist themselves to the Google Drive periodically.\n",
    "- You can enable GPU or TPU support! You can find this option under *Runtime* -> *Change runtime type*.\n",
    "- After installing dependencies, you need to restart the runtime in order to actually use them.\n",
    "\n",
    "If you want to run the code on your own platform or system, you need to keep a few things in mind:\n",
    "- The dependencies you need to install may differ from the ones we installed here. The installed dependencies are suitable for Google Colab, Ubuntu, and Debian.\n",
    "- Since Google Colab isn't attached to a monitor, we render the output to a video file. On your own machine the built-in render method from OpenAI's Gym may suffice.\n",
    "- The default paths use Google Drive! Change these.\n",
    "\n",
    "## Info Support\n",
    "This assignment was developed by Info Support. Looking for a graduation project or job? Check out their website: https://carriere.infosupport.com/\n",
    "\n"
   ]
  },
  {
   "cell_type": "markdown",
   "metadata": {
    "id": "P7mfjQyuT_zV"
   },
   "source": [
    "# Preparation"
   ]
  },
  {
   "cell_type": "markdown",
   "metadata": {
    "id": "d_LwZ18PXsaL"
   },
   "source": [
    "Some dependencies need to be installed for the code to work. Furthermore, we will define some methods which allow us to show the OpenAI Gym renderings in this (headless) Google Colab environment.\n",
    "\n",
    "You only have to run these and don't need to change any of the code."
   ]
  },
  {
   "cell_type": "code",
   "execution_count": null,
   "metadata": {
    "colab": {
     "base_uri": "https://localhost:8080/"
    },
    "executionInfo": {
     "elapsed": 22466,
     "status": "ok",
     "timestamp": 1621347232636,
     "user": {
      "displayName": "stan mey",
      "photoUrl": "",
      "userId": "16772822764425421550"
     },
     "user_tz": -120
    },
    "id": "PBdwK87YUI9Y",
    "outputId": "370dce1e-2072-4d66-e257-4828148b7390"
   },
   "outputs": [],
   "source": [
    "# Install dependencies\n",
    "\"\"\"Note: if you are running this code on your own machine, you probably don't need all of these.\n",
    "   Start with 'pip install gym' and install more packages if you run into errors.\"\"\"\n",
    "!apt-get update > /dev/null 2>&1\n",
    "!apt-get install -y xvfb python-opengl ffmpeg cmake > /dev/null 2>&1\n",
    "\n",
    "!pip install gym pyvirtualdisplay > /dev/null 2>&1\n",
    "!pip install --upgrade setuptools 2>&1\n",
    "!pip install ez_setup > /dev/null 2>&1\n",
    "!pip install gym[atari] > /dev/null 2>&1\n",
    "!pip install colabgymrender"
   ]
  },
  {
   "cell_type": "code",
   "execution_count": null,
   "metadata": {
    "id": "y7IG_wxod9mW"
   },
   "outputs": [],
   "source": [
    "# Imports for helper functions\n",
    "import base64\n",
    "import io\n",
    "import math\n",
    "import random as rd\n",
    "from pathlib import Path\n",
    "\n",
    "import gym\n",
    "import matplotlib\n",
    "import matplotlib.pyplot as plt\n",
    "import numpy as np\n",
    "from colabgymrender.recorder import Recorder\n",
    "from google.colab import drive\n",
    "from gym.wrappers import Monitor\n",
    "from IPython import display as ipythondisplay\n",
    "from IPython.display import HTML\n",
    "from pyvirtualdisplay import Display"
   ]
  },
  {
   "cell_type": "code",
   "execution_count": null,
   "metadata": {
    "colab": {
     "base_uri": "https://localhost:8080/"
    },
    "executionInfo": {
     "elapsed": 474,
     "status": "ok",
     "timestamp": 1621347240357,
     "user": {
      "displayName": "stan mey",
      "photoUrl": "",
      "userId": "16772822764425421550"
     },
     "user_tz": -120
    },
    "id": "MFDD54_Afgs4",
    "outputId": "6f0c7de0-b8ea-407b-ed6f-98ee311d671f"
   },
   "outputs": [],
   "source": [
    "# Mount your Google Drive. By doing so, you can store any output, models, videos, and images persistently.\n",
    "drive.mount('/content/gdrive')"
   ]
  },
  {
   "cell_type": "code",
   "execution_count": null,
   "metadata": {
    "id": "lJeiCQFRgnSj"
   },
   "outputs": [],
   "source": [
    "# Create a directory to store the data for this lab. Feel free to change this.\n",
    "data_path = Path('/content/gdrive/My Drive/Colab Notebooks/HU_RL/part1')\n",
    "data_path.mkdir(parents=True, exist_ok=True)\n",
    "video_path = data_path / 'video'"
   ]
  },
  {
   "cell_type": "code",
   "execution_count": null,
   "metadata": {
    "colab": {
     "base_uri": "https://localhost:8080/"
    },
    "executionInfo": {
     "elapsed": 1338,
     "status": "ok",
     "timestamp": 1621347241902,
     "user": {
      "displayName": "stan mey",
      "photoUrl": "",
      "userId": "16772822764425421550"
     },
     "user_tz": -120
    },
    "id": "rU2ZsnBEelqW",
    "outputId": "bb88b62d-dad8-44e6-bb29-e9f9c6c3b7eb"
   },
   "outputs": [],
   "source": [
    "# Define helper functions to visually show what the models are doing.\n",
    "%matplotlib inline\n",
    "\n",
    "gym.logger.set_level(gym.logger.ERROR)\n",
    "\n",
    "display = Display(visible=0, size=(1400, 900))\n",
    "display.start()\n",
    "\n",
    "def show_video():\n",
    "    # Display the stored video file\n",
    "    # Credits: https://star-ai.github.io/Rendering-OpenAi-Gym-in-Colaboratory/\n",
    "    mp4list = list(data_path.glob('video/*.mp4'))\n",
    "    if len(mp4list) > 0:\n",
    "        mp4 = mp4list[-1]\n",
    "        video = io.open(mp4, 'r+b').read()\n",
    "        encoded = base64.b64encode(video)\n",
    "        ipythondisplay.display(HTML(data='''<video alt=\"test\" autoplay \n",
    "                loop controls style=\"height: 400px;\">\n",
    "                <source src=\"data:video/mp4;base64,{0}\" type=\"video/mp4\" />\n",
    "            </video>'''.format(encoded.decode('ascii'))))\n",
    "    else: \n",
    "        print('Could not find video')\n",
    "\n",
    "\n",
    "def record_episode(idx):\n",
    "    # This determines which episodes to record.\n",
    "    # Since the video rendering in the OpenAI Gym is a bit buggy, we simply override it and decide\n",
    "    # whether or not to render inside of our training loop.\n",
    "    return True\n",
    "\n",
    "    \n",
    "def video_env(env):\n",
    "    # Wraps the environment to write its output to a video file\n",
    "    env = Monitor(env, video_path, video_callable=record_episode, force=True)\n",
    "    return env\n"
   ]
  },
  {
   "cell_type": "markdown",
   "metadata": {
    "id": "ShMPjUFXiwli"
   },
   "source": [
    "# Test the environment"
   ]
  },
  {
   "cell_type": "code",
   "execution_count": null,
   "metadata": {
    "colab": {
     "base_uri": "https://localhost:8080/",
     "height": 458
    },
    "executionInfo": {
     "elapsed": 21389,
     "status": "ok",
     "timestamp": 1620944575785,
     "user": {
      "displayName": "stan mey",
      "photoUrl": "",
      "userId": "16772822764425421550"
     },
     "user_tz": -120
    },
    "id": "u3hAfAGhi4KK",
    "outputId": "30e26da0-eeac-4fbf-cb63-72cf25f9b578"
   },
   "outputs": [],
   "source": [
    "\"\"\"We will use a basic OpenAI Gym examle: CartPole-v0.\n",
    "In this example, we will try to balance a pole on a cart.\n",
    "This is similar to kids (and.. grown-ups) trying to balance sticks on their hands.\n",
    "\n",
    "Check out the OpenAI Gym documentation to learn more: https://gym.openai.com/docs/\"\"\"\n",
    "\n",
    "# Create the desired environment\n",
    "env = gym.make(\"CartPole-v0\")\n",
    "\n",
    "# Wrap the environment, to make sure we get to see a fancy video\n",
    "env = video_env(env)\n",
    "\n",
    "# Before you can use a Gym environment, it needs to be reset.\n",
    "state = env.reset()\n",
    "\n",
    "# Perform random actions untill we drop the stick. Just as an example.\n",
    "done = False\n",
    "while not done:\n",
    "    env.render()\n",
    "    # The action_space contains all possible actions we can take.\n",
    "    random_action = env.action_space.sample() \n",
    "\n",
    "    # After each action, we end up in a new state and receive a reward.\n",
    "    # When we drop the pole (more than 12 degrees), or balance it long enough (200 steps),\n",
    "    # or drive off the screen, done is set to True.\n",
    "    state, reward, done, info = env.step(random_action)\n",
    "\n",
    "# Show the results!\n",
    "env.close()\n",
    "show_video()"
   ]
  },
  {
   "cell_type": "code",
   "execution_count": null,
   "metadata": {
    "colab": {
     "base_uri": "https://localhost:8080/"
    },
    "executionInfo": {
     "elapsed": 21387,
     "status": "ok",
     "timestamp": 1620944575786,
     "user": {
      "displayName": "stan mey",
      "photoUrl": "",
      "userId": "16772822764425421550"
     },
     "user_tz": -120
    },
    "id": "i-O3zaP6q4-E",
    "outputId": "9ad6c173-a72b-4ee0-c5de-6b8586640da3"
   },
   "outputs": [],
   "source": [
    "# Neat, it did something (randomly)! \n",
    "\n",
    "# In order to train the system, we will try to predict the reward a certain actions yields given the state of the system.\n",
    "# But what is the state anyway?\n",
    "\n",
    "# In this environment, the state represents the cart's position and velocity, and the pole's angle and velocity.\n",
    "\n",
    "# Let's check out the current state\n",
    "print(f'Cart position: {state[0]} (range: [-4.8, 4.8])')\n",
    "print(f'Cart velocity: {state[1]} (range: [-inf, inf])')\n",
    "print(f'Pole angle: {state[2]} (range: [-0.418, 0.418])')\n",
    "print(f'Pole velocity: {state[3]} (range [-inf, inf])')\n",
    "\n",
    "# You can find out the minimum and maximum possible observation values using:\n",
    "print(f'Low observation space:', env.observation_space.low)\n",
    "print(f'High observation space:', env.observation_space.high)"
   ]
  },
  {
   "cell_type": "markdown",
   "metadata": {
    "id": "nhQlBt2hUAQ2"
   },
   "source": [
    "# Implement Q-Learning"
   ]
  },
  {
   "cell_type": "markdown",
   "metadata": {
    "id": "HFsyJOo5GrZe"
   },
   "source": [
    "## Task\n",
    "Implement Q-Learning and find suitable parameters to reach a 200 reward."
   ]
  },
  {
   "cell_type": "code",
   "execution_count": null,
   "metadata": {
    "colab": {
     "base_uri": "https://localhost:8080/",
     "height": 246
    },
    "executionInfo": {
     "elapsed": 1415,
     "status": "error",
     "timestamp": 1621331035414,
     "user": {
      "displayName": "stan mey",
      "photoUrl": "",
      "userId": "16772822764425421550"
     },
     "user_tz": -120
    },
    "id": "eDvyHdRyRtdq",
    "outputId": "8cf65dab-b632-457b-eb15-8212bdd5c1a4"
   },
   "outputs": [],
   "source": [
    "# Define parameters - Fill in the dots\n",
    "\n",
    "num_episodes = 22000\n",
    "num_episodes_between_status_update = 500\n",
    "num_episodes_between_videos = 4000\n",
    "\n",
    "learning_rate = 0.1         # also known as: alpha\n",
    "discount = 0.95              # also known as: gamma\n",
    "epsilon = 1.0               # exploration rate\n",
    "\n",
    "# Epsilon decay\n",
    "epsilon_decay_value = 0.9995    # Optionally, add parameters for epsilon decay here\n",
    "\n",
    "# Discretization (here do we limit the infinite floating values to a more discrete number)\n",
    "upper_bounds = [\n",
    "  env.observation_space.high[0],\n",
    "  1.0,\n",
    "  env.observation_space.high[2],\n",
    "  2.0\n",
    "]\n",
    "\n",
    "lower_bounds = [\n",
    "  env.observation_space.low[0],\n",
    "  -1.0,\n",
    "  env.observation_space.low[2],\n",
    "  -2.0\n",
    "]"
   ]
  },
  {
   "cell_type": "code",
   "execution_count": null,
   "metadata": {
    "colab": {
     "base_uri": "https://localhost:8080/",
     "height": 374
    },
    "executionInfo": {
     "elapsed": 964,
     "status": "error",
     "timestamp": 1621331045627,
     "user": {
      "displayName": "stan mey",
      "photoUrl": "",
      "userId": "16772822764425421550"
     },
     "user_tz": -120
    },
    "id": "T0S8rYCWT15s",
    "outputId": "cb478fa8-eb0c-4912-eb3c-7a4c1f908217"
   },
   "outputs": [],
   "source": [
    "## Q-Table creation\n",
    "\n",
    "# As seen before, the state consists of 4 floating point values.\n",
    "# It makes sense to discretize these values (read: place them in buckets), to reduce the state space and therefore the Q-table size\n",
    "state_shape = [30, 30, 50, 50]      # For instance: [4, 4, 6, 6], or [10] * 4, or [200, 200, 100, 100]\n",
    "\n",
    "buckets = np.array([np.linspace(start=lower_bounds[i], stop=upper_bounds[i], num=state_shape[i]) for i in range(len(state_shape))])\n",
    "\n",
    "# Define the initial Q table as a random uniform distribution\n",
    "q_table = np.random.uniform(low=-2, high=0, size=(state_shape + [env.action_space.n]))\n",
    "\n",
    "print('Initial Q table:', q_table.shape)"
   ]
  },
  {
   "cell_type": "markdown",
   "metadata": {
    "id": "-4Cp8cNtUcDf"
   },
   "source": [
    "# Train\n"
   ]
  },
  {
   "cell_type": "code",
   "execution_count": null,
   "metadata": {
    "id": "9SMMA_KceHrx"
   },
   "outputs": [],
   "source": [
    "# Functions\n",
    "\n",
    "def discretize_state(state):\n",
    "    # A Q-table cannot practically handle infinite states, so limit the state space by\n",
    "    # discretizing the state into buckets.\n",
    "    discrete_state = np.zeros(state.shape)\n",
    "    for i in range(len(discrete_state)):\n",
    "      value = state[i]\n",
    "      discrete_state[i] = np.argmin([abs(value-x) for x in buckets[i]])\n",
    "\n",
    "    return tuple(discrete_state.astype(np.int))\n",
    "\n",
    "def take_action(discrete_state, epsilon):\n",
    "    # Take an action to either explore or exploit.\n",
    "    if rd.random() <= epsilon:\n",
    "      # go explore\n",
    "      action = env.action_space.sample()\n",
    "    else:\n",
    "      # go exploiting\n",
    "      action = np.argmax(q_table[discrete_state])\n",
    "    return action\n",
    "\n",
    "def estimated_max_for_next_state(discrete_state):\n",
    "    # What's the best expected Q-value for the next state?\n",
    "    estimated_max = np.max(q_table[discrete_state])\n",
    "    return estimated_max\n",
    "\n",
    "def new_q_value(discrete_state, action, max_future_q, reward):\n",
    "    # Calculate the new Q-value\n",
    "    current_q = q_table[discrete_state][action]\n",
    "    new_q = current_q + learning_rate * (reward + discount * max_future_q - current_q)\n",
    "    return new_q\n",
    "\n",
    "def decayed_epsilon(epsilon, episode):\n",
    "    # Optionally, decay the epsilon value\n",
    "    epsilon = epsilon * epsilon_decay_value\n",
    "    return epsilon"
   ]
  },
  {
   "cell_type": "code",
   "execution_count": null,
   "metadata": {
    "colab": {
     "base_uri": "https://localhost:8080/",
     "height": 246
    },
    "executionInfo": {
     "elapsed": 410,
     "status": "error",
     "timestamp": 1621347250523,
     "user": {
      "displayName": "stan mey",
      "photoUrl": "",
      "userId": "16772822764425421550"
     },
     "user_tz": -120
    },
    "id": "iMUc3G164cA7",
    "outputId": "f896ec41-0013-4799-b6f8-2c8db4cf6035"
   },
   "outputs": [],
   "source": [
    "# Time to train the system\n",
    "prior_reward = 0\n",
    "total_reward = 0\n",
    "\n",
    "for episode in range(num_episodes):\n",
    "    state = env.reset() # Don't forget to reset the environment between episodes\n",
    "    current_state_disc = discretize_state(state)\n",
    "\n",
    "    reward_sum = 0\n",
    "    done = False\n",
    "    while not done:\n",
    "        if (episode + 1) % num_episodes_between_videos == 0:\n",
    "            env.render()\n",
    "\n",
    "        # Take an action by exploration or exploitation\n",
    "        action = take_action(current_state_disc, epsilon)\n",
    "        new_state, reward, done, info = env.step(action)\n",
    "        new_state_disc = discretize_state(new_state)\n",
    "\n",
    "        # Calculate the total reward\n",
    "        reward_sum += reward\n",
    "\n",
    "        if not done:\n",
    "            # Retrieve the maximum estimated value for the next state\n",
    "            max_future_q = estimated_max_for_next_state(new_state_disc)\n",
    "\n",
    "            # Calculate the new value (note: Bellman equation)\n",
    "            new_q = new_q_value(current_state_disc, action, max_future_q, reward)\n",
    "            q_table[current_state_disc + (action,)] = new_q\n",
    "        else:\n",
    "            # update the total_reward\n",
    "            total_reward += reward_sum\n",
    "            # Render the video\n",
    "            if (episode + 1) % num_episodes_between_status_update == 0:\n",
    "                env.render()\n",
    "                print(f'Total reward at episode {episode + 1}: {reward_sum}; Mean reward during episode batch: {total_reward / num_episodes_between_status_update}')\n",
    "                total_reward = 0\n",
    "\n",
    "        # Prepare for the next loop\n",
    "        current_state_disc = new_state_disc\n",
    "\n",
    "    # Decay epsilon\n",
    "    if epsilon > 0.05:  # when lower do not update epsilon anymore\n",
    "      if reward_sum >= prior_reward and episode > 10000:\n",
    "        epsilon = decayed_epsilon(epsilon, episode)\n",
    "\n",
    "        if episode % 500 == 0:\n",
    "          print(\"Epsilon: \" + str(epsilon))\n",
    "\n",
    "    # update the prior reward\n",
    "    prior_reward = reward_sum\n",
    "\n",
    "env.close()\n",
    "show_video()"
   ]
  },
  {
   "cell_type": "markdown",
   "metadata": {
    "id": "7RbC9GKag15q"
   },
   "source": [
    "# MountainCar\n"
   ]
  },
  {
   "cell_type": "markdown",
   "metadata": {
    "id": "_0oyL2bxg_1j"
   },
   "source": [
    "Now apply the things you've learned to the MountainCar problem. Please note that the observable space differs from the previous problem. Thus, before you start training, you need to learn more about this new environment.\n",
    "\n",
    "Here is some code to help you get started.."
   ]
  },
  {
   "cell_type": "code",
   "execution_count": null,
   "metadata": {
    "colab": {
     "base_uri": "https://localhost:8080/",
     "height": 439
    },
    "executionInfo": {
     "elapsed": 1123,
     "status": "ok",
     "timestamp": 1621347257581,
     "user": {
      "displayName": "stan mey",
      "photoUrl": "",
      "userId": "16772822764425421550"
     },
     "user_tz": -120
    },
    "id": "hWzVnM10g4Oc",
    "outputId": "1f4bb860-b92d-4f26-9d02-5adcd807ea64"
   },
   "outputs": [],
   "source": [
    "# Create the desired environment\n",
    "env = gym.make(\"MountainCar-v0\")\n",
    "\n",
    "# Wrap the environment, to make sure we get to see a fancy video\n",
    "env = video_env(env)\n",
    "\n",
    "# Before you can use a Gym environment, it needs to be reset.\n",
    "state = env.reset()\n",
    "print(state)\n",
    "\n",
    "# Perform random actions untill we drop the stick. Just as an example.\n",
    "done = False\n",
    "while not done:\n",
    "   \n",
    "    # Explore and take actions\n",
    "    pass\n",
    "\n",
    "    # Remove the line below when you have created an implementation you want to test.\n",
    "    done = True\n",
    "\n",
    "# Show the results!\n",
    "env.close()\n",
    "show_video()"
   ]
  },
  {
   "cell_type": "code",
   "execution_count": null,
   "metadata": {
    "colab": {
     "base_uri": "https://localhost:8080/"
    },
    "executionInfo": {
     "elapsed": 875,
     "status": "ok",
     "timestamp": 1621347259691,
     "user": {
      "displayName": "stan mey",
      "photoUrl": "",
      "userId": "16772822764425421550"
     },
     "user_tz": -120
    },
    "id": "xBXfMqnOSkCv",
    "outputId": "669202fb-0d54-4531-f48c-b7f15041699a"
   },
   "outputs": [],
   "source": [
    "# Define parameters - Fill in the dots\n",
    "num_episodes = 20000\n",
    "num_episodes_between_status_update = 500\n",
    "num_episodes_between_videos = 2000\n",
    "\n",
    "learning_rate = 0.2         # also known as: alpha\n",
    "discount = 0.99              # also known as: gamma\n",
    "epsilon = 0.7               # exploration rate\n",
    "minimal_epsilon = 0.02\n",
    "\n",
    "# Epsilon decay\n",
    "epsilon_decay_value = 0.9995    # Optionally, add parameters for epsilon decay here\n",
    "\n",
    "# Discretization (here do we limit the infinite floating values to a more discrete number)\n",
    "print(f'Low observation space:', env.observation_space.low)\n",
    "print(f'High observation space:', env.observation_space.high)\n",
    "\n",
    "## Q-Table creation\n",
    "\n",
    "# As seen before, the state consists of 4 floating point values.\n",
    "# It makes sense to discretize these values (read: place them in buckets), to reduce the state space and therefore the Q-table size\n",
    "state_shape = [40, 40]      # For instance: [4, 4, 6, 6], or [10] * 4, or [200, 200, 100, 100]\n",
    "\n",
    "buckets = np.array([np.linspace(start=env.observation_space.low[i], stop=env.observation_space.high[i], num=state_shape[i]) for i in range(len(state_shape))])"
   ]
  },
  {
   "cell_type": "code",
   "execution_count": null,
   "metadata": {
    "colab": {
     "base_uri": "https://localhost:8080/"
    },
    "executionInfo": {
     "elapsed": 719,
     "status": "ok",
     "timestamp": 1621347262254,
     "user": {
      "displayName": "stan mey",
      "photoUrl": "",
      "userId": "16772822764425421550"
     },
     "user_tz": -120
    },
    "id": "7Cg__Smh1Q3u",
    "outputId": "c63ed8e1-8c05-49b1-940e-ce4d1e1bb7a3"
   },
   "outputs": [],
   "source": [
    "## Q-Table creation\n",
    "# Define the initial Q table as a random uniform distribution\n",
    "q_table = np.random.uniform(low=-2, high=0, size=(state_shape + [env.action_space.n]))\n",
    "\n",
    "print('Initial Q table:', q_table.shape)"
   ]
  },
  {
   "cell_type": "code",
   "execution_count": null,
   "metadata": {
    "colab": {
     "base_uri": "https://localhost:8080/",
     "height": 1000
    },
    "executionInfo": {
     "elapsed": 602570,
     "status": "ok",
     "timestamp": 1621347867650,
     "user": {
      "displayName": "stan mey",
      "photoUrl": "",
      "userId": "16772822764425421550"
     },
     "user_tz": -120
    },
    "id": "ss7k2I_s2BWM",
    "outputId": "667913be-8333-46e4-b367-3047edb09ee8"
   },
   "outputs": [],
   "source": [
    "# Time to train the system\n",
    "prior_reward = 0\n",
    "total_reward = 0\n",
    "\n",
    "for episode in range(num_episodes):\n",
    "    state = env.reset() # Don't forget to reset the environment between episodes\n",
    "    current_state_disc = discretize_state(state)\n",
    "\n",
    "    reward_sum = 0\n",
    "    done = False\n",
    "    while not done:\n",
    "        if (episode + 1) % num_episodes_between_videos == 0:\n",
    "            env.render()\n",
    "\n",
    "        # Take an action by exploration or exploitation\n",
    "        action = take_action(current_state_disc, epsilon)\n",
    "        new_state, reward, done, info = env.step(action)\n",
    "        new_state_disc = discretize_state(new_state)\n",
    "\n",
    "        # Calculate the total reward\n",
    "        reward_sum += reward\n",
    "\n",
    "        if not done:\n",
    "            # Retrieve the maximum estimated value for the next state\n",
    "            max_future_q = estimated_max_for_next_state(new_state_disc)\n",
    "\n",
    "            # Calculate the new value (note: Bellman equation)\n",
    "            new_q = new_q_value(current_state_disc, action, max_future_q, reward)\n",
    "            q_table[current_state_disc][action] = new_q\n",
    "        else:\n",
    "            # update the total_reward\n",
    "            total_reward += reward_sum\n",
    "            # Render the video\n",
    "            if (episode + 1) % num_episodes_between_status_update == 0:\n",
    "                env.render()\n",
    "                print(f'Total reward at episode {episode + 1}: {reward_sum}; Mean reward during episode batch: {total_reward / num_episodes_between_status_update}')\n",
    "                total_reward = 0\n",
    "\n",
    "        # Prepare for the next loop\n",
    "        current_state_disc = new_state_disc\n",
    "        # break\n",
    "\n",
    "    # Decay epsilon\n",
    "    if epsilon > minimal_epsilon:  # when lower do not update epsilon anymore\n",
    "      if reward_sum >= prior_reward and episode > 2000:\n",
    "        epsilon = decayed_epsilon(epsilon, episode)\n",
    "\n",
    "        if episode % 500 == 0:\n",
    "          print(\"Epsilon: \" + str(epsilon))\n",
    "\n",
    "    # update the prior reward\n",
    "    prior_reward = reward_sum\n",
    "\n",
    "env.close()\n",
    "show_video()"
   ]
  },
  {
   "cell_type": "code",
   "execution_count": null,
   "metadata": {
    "colab": {
     "base_uri": "https://localhost:8080/",
     "height": 624
    },
    "executionInfo": {
     "elapsed": 2473,
     "status": "ok",
     "timestamp": 1621347867651,
     "user": {
      "displayName": "stan mey",
      "photoUrl": "",
      "userId": "16772822764425421550"
     },
     "user_tz": -120
    },
    "id": "w9DMrDbrtEOj",
    "outputId": "d55d81ad-619d-478f-8272-dbb34cbb77df"
   },
   "outputs": [],
   "source": [
    "# plotting the action space for the state space\n",
    "states, actions = [], []\n",
    "labels = [\"left\", \"stay\", \"right\"]\n",
    "\n",
    "for position in range(q_table.shape[0]):\n",
    "  for velocity in range(q_table.shape[1]):\n",
    "    states.append((buckets[1][velocity], buckets[0][position]))\n",
    "    actions.append(np.argmax(q_table[position, velocity]))\n",
    "\n",
    "fig = plt.figure(figsize=(10, 10))\n",
    "scatter = plt.scatter(*zip(*states), c=actions)\n",
    "\n",
    "handles, _ = scatter.legend_elements()\n",
    "plt.legend(handles, labels)\n",
    "\n",
    "plt.xlabel(\"velocity\")\n",
    "plt.ylabel(\"position\")\n",
    " \n",
    "plt.show()\n"
   ]
  }
 ],
 "metadata": {
  "colab": {
   "collapsed_sections": [],
   "name": "1_Hogeschool_Utrecht_Reinforcement_Learning_project_Q_Learning.ipynb",
   "provenance": []
  },
  "kernelspec": {
   "display_name": "Python 3",
   "language": "python",
   "name": "python3"
  },
  "language_info": {
   "codemirror_mode": {
    "name": "ipython",
    "version": 3
   },
   "file_extension": ".py",
   "mimetype": "text/x-python",
   "name": "python",
   "nbconvert_exporter": "python",
   "pygments_lexer": "ipython3",
   "version": "3.7.6"
  }
 },
 "nbformat": 4,
 "nbformat_minor": 4
}
