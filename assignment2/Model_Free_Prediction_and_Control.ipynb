{
 "cells": [
  {
   "cell_type": "markdown",
   "id": "a957b574-21d2-418f-84c7-22532d721458",
   "metadata": {},
   "source": [
    "# Inleveropgave 2: Model-Free Prediction and Control\n",
    "\n",
    "### Sources\n",
    "- https://towardsdatascience.com/reinforcement-learning-rl-101-with-python-e1aa0d37d43b"
   ]
  },
  {
   "cell_type": "code",
   "execution_count": 2,
   "id": "3598de3e-82f0-4eaf-bf8b-91339b517f29",
   "metadata": {},
   "outputs": [],
   "source": [
    "import numpy as np\n",
    "import matplotlib.pyplot as plt\n",
    "from typing import Tuple, List"
   ]
  },
  {
   "cell_type": "code",
   "execution_count": null,
   "id": "6db9a471-91f7-4100-b386-ed1f15023141",
   "metadata": {},
   "outputs": [],
   "source": []
  },
  {
   "cell_type": "code",
   "execution_count": 3,
   "id": "22c9c5b6-2195-4fe1-a38a-1715f18454fb",
   "metadata": {},
   "outputs": [],
   "source": [
    "class Maze:\n",
    "    def __init__(self, R: np.ndarray, end: List[Tuple[int, int]],\n",
    "                 p_action: float = 0.7, discount: float = 0.9, threshold: float = 0.0001):\n",
    "        \"\"\"The init function.\n",
    "        \n",
    "        args:\n",
    "            R (np.ndarray): The array with the rewards per state.\n",
    "            end (List[Tuple[int, int]]): A list with the positions of the end states.\n",
    "        \"\"\"\n",
    "        self.R = R\n",
    "        self.end_states = end"
   ]
  },
  {
   "cell_type": "markdown",
   "id": "17bb4fd2-06be-4ad4-83f1-e1ef5a7d3009",
   "metadata": {},
   "source": [
    "## Model-Free Prediction\n",
    "### Monte-Carlo Policy Evaluation"
   ]
  },
  {
   "cell_type": "code",
   "execution_count": null,
   "id": "cfb4a389-b682-49e7-b53d-969057e25b8a",
   "metadata": {},
   "outputs": [],
   "source": [
    "def monte_carlo_policy_evaluation(env: Maze, policy: str = \"optimal\",\n",
    "                              discount: float = 0.9, n_episodes: int = 100):\n",
    "    \"\"\"\"\"\"\n",
    "    for _ in range(n_episodes):\n",
    "        pass\n",
    "\n",
    "    \n",
    "def generate_episode(env: maze, policy: str):\n",
    "    \"\"\"\"\"\"\n",
    "    states, actions, rewards = [], [], []\n",
    "    \n",
    "    while True:\n",
    "        break"
   ]
  },
  {
   "cell_type": "code",
   "execution_count": null,
   "id": "f32ccf42-5f32-45dc-94cf-a85b09b32ce9",
   "metadata": {},
   "outputs": [],
   "source": []
  },
  {
   "cell_type": "markdown",
   "id": "24275c94-340b-4709-bbb4-b42c67d88d15",
   "metadata": {},
   "source": [
    "### Temporal Difference Learning"
   ]
  },
  {
   "cell_type": "code",
   "execution_count": null,
   "id": "a6822f97-46ed-477d-a47a-7f7c3cdb42af",
   "metadata": {},
   "outputs": [],
   "source": [
    "def temporal_difference_learning(env: Maze, policy: str = \"optimal\",\n",
    "                                 discount: float = 0.9, n_episodes: int = 100):\n",
    "    \"\"\"\"\"\"\n",
    "    for _ in range(n_episodes):\n",
    "        pass"
   ]
  },
  {
   "cell_type": "code",
   "execution_count": null,
   "id": "03c534a7-ae4a-4542-9022-c06b5e1699df",
   "metadata": {},
   "outputs": [],
   "source": []
  },
  {
   "cell_type": "code",
   "execution_count": null,
   "id": "3f170209-dc80-4ae8-8a56-c572b0baba94",
   "metadata": {},
   "outputs": [],
   "source": []
  },
  {
   "cell_type": "markdown",
   "id": "ed8d1a0a-ae37-449f-919e-5ace40f36b34",
   "metadata": {},
   "source": [
    "## Model-Free Control"
   ]
  },
  {
   "cell_type": "code",
   "execution_count": null,
   "id": "331d84e1-08b2-4cbc-b125-b9be498f113f",
   "metadata": {},
   "outputs": [],
   "source": []
  },
  {
   "cell_type": "code",
   "execution_count": null,
   "id": "b119b1b1-ba9f-4dfd-8a76-65c4df7b4f7a",
   "metadata": {},
   "outputs": [],
   "source": []
  }
 ],
 "metadata": {
  "kernelspec": {
   "display_name": "Python 3",
   "language": "python",
   "name": "python3"
  },
  "language_info": {
   "codemirror_mode": {
    "name": "ipython",
    "version": 3
   },
   "file_extension": ".py",
   "mimetype": "text/x-python",
   "name": "python",
   "nbconvert_exporter": "python",
   "pygments_lexer": "ipython3",
   "version": "3.8.8"
  }
 },
 "nbformat": 4,
 "nbformat_minor": 5
}
