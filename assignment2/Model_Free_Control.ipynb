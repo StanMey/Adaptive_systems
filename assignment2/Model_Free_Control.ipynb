{
 "cells": [
  {
   "cell_type": "markdown",
   "id": "37627fdd-8dae-4d5a-94f2-c40408a6f3db",
   "metadata": {},
   "source": [
    "# Inleveropgave 2: Model-Free Prediction and Control\n",
    "\n",
    "## Model-Free Control"
   ]
  },
  {
   "cell_type": "code",
   "execution_count": 30,
   "id": "18c65fab-647f-47c9-b6ec-c412c80fa539",
   "metadata": {},
   "outputs": [],
   "source": [
    "from typing import Tuple, List\n",
    "from utils import Maze\n",
    "from collections import defaultdict\n",
    "\n",
    "import random as rd\n",
    "import numpy as np\n",
    "import matplotlib.pyplot as plt"
   ]
  },
  {
   "cell_type": "markdown",
   "id": "3fb6e77e-515c-49bb-9261-4ac0ed085b44",
   "metadata": {},
   "source": []
  },
  {
   "cell_type": "code",
   "execution_count": 20,
   "id": "44dbea2e-7786-4881-aa42-2405fb66a054",
   "metadata": {},
   "outputs": [],
   "source": [
    "start_state = (3, 2)\n",
    "terminal_states = [(0, 3), (3, 0)]\n",
    "\n",
    "rewards = np.array([[-1, -1, -1, 40],\n",
    "                    [-1, -1, -10, -10],\n",
    "                    [-1, -1, -1, -1],\n",
    "                    [10, -2, -1, -1]])\n",
    "\n",
    "# initialize the Maze\n",
    "maze = Maze(rewards, terminal_states, start_state)"
   ]
  },
  {
   "cell_type": "markdown",
   "id": "1afcd02a-05fd-4403-80c0-6442311c923d",
   "metadata": {},
   "source": [
    "### On-policy first-visit Monte-Carlo Control"
   ]
  },
  {
   "cell_type": "code",
   "execution_count": 21,
   "id": "41e8f7cb-28b7-4c6e-873a-4e7031aa17b0",
   "metadata": {},
   "outputs": [],
   "source": [
    "def epsilon_greedy_step(q_table, state, epsilon: float):\n",
    "    \"\"\"\"\"\"\n",
    "    if epsilon > rd.random():\n",
    "        # exploring\n",
    "        action = rd.randint(0, len(q_table[state]) - 1)\n",
    "    else:\n",
    "        # choosing greedy\n",
    "        action = np.argmax(q_table[state])\n",
    "    \n",
    "    return action\n",
    "        \n",
    "\n",
    "def generate_episode(env: Maze, q_table, epsilon: float):\n",
    "    \"\"\"\"\"\"\n",
    "    steps = []  # holds Tuples with the states, actions and rewards\n",
    "    pos = env.get_random_position()\n",
    "\n",
    "    # break if the chosen state is a terminal state\n",
    "    while pos not in env.end_states:\n",
    "        \n",
    "        # get the next action\n",
    "        action = epsilon_greedy_step(q_table, pos, epsilon)\n",
    "\n",
    "        reward = env.R[action]\n",
    "        steps.append((pos, action, reward))\n",
    "\n",
    "        # update the pos to the taken action\n",
    "        next_actions = env.get_next_action_positions(pos)\n",
    "        pos = next_actions[action]\n",
    "        \n",
    "    # save the latest pos with all extra data\n",
    "    steps.append((pos, (), 0))\n",
    "    return steps"
   ]
  },
  {
   "cell_type": "code",
   "execution_count": 26,
   "id": "e2141ddc-f100-4668-9777-6d47b4e003d2",
   "metadata": {},
   "outputs": [],
   "source": [
    "def on_policy_fv_mc_control(env: Maze, actions: List[str], discount: float = 0.9, epsilon: float = 0.2, n_episodes: int = 1000):\n",
    "    \"\"\"\"\"\"\n",
    "    # set up the qtable and the state-action returns\n",
    "    policy_Q = defaultdict(lambda: np.zeros(len(actions)))\n",
    "    mean_Q = defaultdict(lambda: np.zeros(len(actions)))\n",
    "    state_returns = defaultdict(list)\n",
    "    \n",
    "    for _ in range(n_episodes):\n",
    "        episode = generate_episode(env, policy_Q, epsilon)\n",
    "        visited_qstates = []\n",
    "        G = 0\n",
    "\n",
    "        for state, action, reward in episode[::-1]:\n",
    "            G = discount * G + reward\n",
    "\n",
    "            if (state, action) not in visited_qstates:\n",
    "                # the state-action haven't appeared yet\n",
    "                visited_qstates.append((state, action))  # add state action pair to visited\n",
    "                # update the return of the state action pair\n",
    "                state_returns[(state, action)].append(G)\n",
    "                # take the new mean of the state action pair\n",
    "                mean_Q[state][action] = np.mean(state_returns[(state, action)])\n",
    "                \n",
    "                # update Q-table\n",
    "                max_elem = max(mean_Q[state])\n",
    "                a_star = [index for index, x in enumerate(mean_Q[state]) if x == max_elem]\n",
    "                \n",
    "                for index, action in enumerate(mean_Q[state]):\n",
    "                    if index in a_star:\n",
    "                        policy_Q[state][index] = 1 - epsilon + epsilon / len(policy_Q[state])\n",
    "                    else:\n",
    "                        policy_Q[state][index] = epsilon / len(policy_Q[state])\n",
    "\n",
    "    return policy_Q      "
   ]
  },
  {
   "cell_type": "code",
   "execution_count": 27,
   "id": "eb72eaca-971c-4d88-af2b-0be6b121e3dd",
   "metadata": {
    "tags": []
   },
   "outputs": [
    {
     "data": {
      "text/plain": [
       "defaultdict(<function __main__.on_policy_fv_mc_control.<locals>.<lambda>()>,\n",
       "            {(3, 2): array([0.85, 0.05, 0.05, 0.05]),\n",
       "             (2, 2): array([0.85, 0.05, 0.05, 0.05]),\n",
       "             (1, 2): array([0.05, 0.05, 0.85, 0.05]),\n",
       "             (0, 2): array([0.05, 0.05, 0.85, 0.05]),\n",
       "             (0, 3): array([0.85, 0.85, 0.85, 0.85]),\n",
       "             (2, 3): array([0.05, 0.05, 0.85, 0.05]),\n",
       "             (1, 3): array([0.05, 0.05, 0.05, 0.85]),\n",
       "             (0, 1): array([0.85, 0.05, 0.05, 0.05]),\n",
       "             (0, 0): array([0.05, 0.05, 0.05, 0.85]),\n",
       "             (1, 0): array([0.05, 0.85, 0.05, 0.05]),\n",
       "             (1, 1): array([0.05, 0.05, 0.05, 0.85]),\n",
       "             (3, 3): array([0.85, 0.05, 0.05, 0.05]),\n",
       "             (2, 1): array([0.85, 0.05, 0.05, 0.05]),\n",
       "             (2, 0): array([0.85, 0.05, 0.05, 0.05]),\n",
       "             (3, 0): array([0.85, 0.85, 0.85, 0.85]),\n",
       "             (3, 1): array([0.85, 0.05, 0.05, 0.05])})"
      ]
     },
     "execution_count": 27,
     "metadata": {},
     "output_type": "execute_result"
    }
   ],
   "source": [
    "actions = [\"up\", \"right\", \"left\", \"down\"]\n",
    "\n",
    "Q = on_policy_fv_mc_control(maze, actions)\n",
    "Q"
   ]
  },
  {
   "cell_type": "code",
   "execution_count": 50,
   "id": "b5633bfc-c7ba-4f45-a887-b7707d0cda63",
   "metadata": {},
   "outputs": [
    {
     "data": {
      "image/png": "[encoded data removed]",
      "text/plain": [
       "<Figure size 864x432 with 1 Axes>"
      ]
     },
     "metadata": {
      "needs_background": "light"
     },
     "output_type": "display_data"
    }
   ],
   "source": [
    "def show_policy(env: Maze, q_table):\n",
    "        \"\"\"Prints the q-table in a matplotlib figure.\"\"\"\n",
    "        plt.rc('figure', figsize=(12,6))\n",
    "        for row in range(env.R.shape[0]):\n",
    "            for col in range(env.R.shape[1]):\n",
    "                # set the x and y value for the place of the state in the figure\n",
    "                x, y = (col, env.R.shape[1] - row)\n",
    "                if (row, col) in env.end_states:\n",
    "                    # end state so draw a point\n",
    "                    plt.scatter(x, y, s=40)\n",
    "                else:\n",
    "                    values = list(map(lambda x: round(x, 2), q_table[(row, col)]))\n",
    "                    for value, direction in zip(values, [\"up\", \"right\", \"left\", \"down\"]):\n",
    "                        if direction == \"up\":\n",
    "                            plt.arrow(x, y, dx=0, dy=0.15, width=0.02)\n",
    "                            plt.text(x-0.05, y+0.3, str(value))\n",
    "                        if direction == \"right\":\n",
    "                            plt.arrow(x, y, dx=0.15, dy=0, width=0.02)\n",
    "                            plt.text(x+0.3, y, str(value))\n",
    "                        if direction == \"left\":\n",
    "                            plt.arrow(x, y, dx=-0.15, dy=0, width=0.02)\n",
    "                            plt.text(x-0.4, y, str(value))\n",
    "                        if direction == \"down\":\n",
    "                            plt.arrow(x, y, dx=0, dy=-0.15, width=0.02)\n",
    "                            plt.text(x-0.05, y-0.35, str(value))\n",
    "        plt.axis(\"off\")\n",
    "        plt.show()\n",
    "\n",
    "show_policy(maze, Q)"
   ]
  },
  {
   "cell_type": "markdown",
   "id": "c60be349-02bf-429b-96e7-e6d2ff0d0ee3",
   "metadata": {
    "tags": []
   },
   "source": [
    "### SARSA"
   ]
  },
  {
   "cell_type": "code",
   "execution_count": 4,
   "id": "79746a6e-f4b0-45ae-8cfa-5b4785b318b5",
   "metadata": {},
   "outputs": [],
   "source": [
    "def sarsa(env: Maze, discount: float = 0.9, epsilon: float = 0.2, n_episodes: int = 1):\n",
    "    \"\"\"\"\"\"\n",
    "    for _ in n_episodes:\n",
    "        print()"
   ]
  },
  {
   "cell_type": "code",
   "execution_count": null,
   "id": "f8b42530-11ed-496c-912e-8f1f45e1614a",
   "metadata": {},
   "outputs": [],
   "source": []
  },
  {
   "cell_type": "markdown",
   "id": "b0add82f-e09d-4c6b-a93c-bb3b3a9af10d",
   "metadata": {},
   "source": [
    "### Q-Learning (SARSAMAX)"
   ]
  },
  {
   "cell_type": "code",
   "execution_count": 5,
   "id": "22bd5551-cd61-4717-a3da-0ffb2b694afb",
   "metadata": {},
   "outputs": [],
   "source": [
    "def q_learning():\n",
    "    \"\"\"\"\"\"\n",
    "    ..."
   ]
  },
  {
   "cell_type": "code",
   "execution_count": null,
   "id": "ee1ba234-5b7c-45e3-b6ac-86f915f04992",
   "metadata": {},
   "outputs": [],
   "source": []
  },
  {
   "cell_type": "code",
   "execution_count": 6,
   "id": "1be2bf14-b89d-441d-ada4-85206b467f90",
   "metadata": {},
   "outputs": [],
   "source": [
    "def show_policy(env: Maze, values: np.ndarray, discount):\n",
    "        \"\"\"Calculates and prints the policy in a matplotlib figure.\"\"\"\n",
    "        for row in range(values.shape[0]):\n",
    "            for col in range(values.shape[1]):\n",
    "                # set the x and y value for the place of the state in the figure\n",
    "                x, y = (col, values.shape[1] - row)\n",
    "                if (row, col) in env.end_states:\n",
    "                    # end state so draw a point\n",
    "                    plt.scatter(x, y, s=40)\n",
    "                else:\n",
    "                    policy = get_greedy_policy(env, values, discount, (row, col))\n",
    "                    for action, direction in zip(policy, [\"up\", \"right\", \"left\", \"down\"]):\n",
    "                        if action:\n",
    "                            # draw an arrow in a direction based on the returned best greedy action\n",
    "                            if direction == \"up\":\n",
    "                                plt.arrow(x, y, dx=0, dy=0.2, width=0.06)\n",
    "                            if direction == \"right\":\n",
    "                                plt.arrow(x, y, dx=0.2, dy=0, width=0.06)\n",
    "                            if direction == \"left\":\n",
    "                                plt.arrow(x, y, dx=-0.2, dy=0, width=0.06)\n",
    "                            if direction == \"down\":\n",
    "                                plt.arrow(x, y, dx=0, dy=-0.2, width=0.06)\n",
    "        plt.axis(\"off\")\n",
    "        plt.show()"
   ]
  }
 ],
 "metadata": {
  "kernelspec": {
   "display_name": "Python 3",
   "language": "python",
   "name": "python3"
  },
  "language_info": {
   "codemirror_mode": {
    "name": "ipython",
    "version": 3
   },
   "file_extension": ".py",
   "mimetype": "text/x-python",
   "name": "python",
   "nbconvert_exporter": "python",
   "pygments_lexer": "ipython3",
   "version": "3.8.8"
  }
 },
 "nbformat": 4,
 "nbformat_minor": 5
}
