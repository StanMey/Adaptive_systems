{
 "cells": [
  {
   "cell_type": "markdown",
   "id": "0bd3bf0b-a29d-4b68-a839-a3fa6d5fc616",
   "metadata": {},
   "source": [
    "# Value Iteration example\n",
    "\n",
    "### Sources:\n",
    "- http://www.cs.uu.nl/docs/vakken/b2ki/LastYear/Docs/Slides/mdps-handouts.pdf"
   ]
  },
  {
   "cell_type": "code",
   "execution_count": null,
   "id": "7477f28f-2915-4c93-9bef-e282fa00d8b5",
   "metadata": {},
   "outputs": [],
   "source": [
    "from typing import Tuple, List\n",
    "import numpy as np"
   ]
  },
  {
   "cell_type": "markdown",
   "id": "42e51d82-ae60-48c2-ae10-f8311e8ed268",
   "metadata": {},
   "source": []
  },
  {
   "cell_type": "code",
   "execution_count": null,
   "id": "01cb2c60-1a81-4c57-90ae-8d02ae46e20f",
   "metadata": {},
   "outputs": [],
   "source": [
    "class Maze:\n",
    "    def __init__(self, R: np.ndarray, end: List[Tuple[int, int]],\n",
    "                 noise: float = 0.7, discount: float = 0.9, threshold: float = 0.5):\n",
    "        self.R = R\n",
    "        self.utility = np.zeros(R.shape)\n",
    "        self.end_states = end\n",
    "\n",
    "        self.noise = noise\n",
    "        self.discount = discount\n",
    "        self.threshold = threshold\n",
    "    \n",
    "    def _calc_new_value(self):\n",
    "        ...\n",
    "    \n",
    "    def _get_action_positions(self, current_pos: Tuple[int, int]):\n",
    "        \"\"\"\"\"\"\n",
    "        row, col = current_pos\n",
    "\n",
    "        up = (row - 1, col) if row - 1 >= 0 else current_pos\n",
    "        right = (row, col + 1) if col + 1 <= self.R.shape[1] else current_pos\n",
    "        left = (row, col -1) if col - 1 >= 0 else current_pos\n",
    "        down = (row + 1, col) if row + 1 <= self.R.shape[0] else current_pos\n",
    "        return up, right, left, down\n",
    "    \n",
    "    def iterate_values(self, noise: float = 0.7):\n",
    "        \"\"\"Value iteration method\"\"\"\n",
    "        delta = 0\n",
    "        new_utility = np.zeros(self.utility.shape)\n",
    "        # get all positions in the grid\n",
    "        positions = [(i,j) for i in range(self.R.shape[0]) for j in range(self.R.shape[1])]\n",
    "        \n",
    "        while delta < self.threshold:\n",
    "            for pos in positions:\n",
    "                # check if we are evaluating an end state\n",
    "                if pos in self.end_states:\n",
    "                    continue\n",
    "\n",
    "                # save the current value\n",
    "                value = self.utility[pos]\n",
    "                # \n",
    "                actions = self._get_action_positions(pos)\n",
    "                print(pos, actions)\n",
    "#                 for index, action in enumerate(actions):\n",
    "#                     print(index, action)\n",
    "#                     noise_actions = [x for x in actions if x != action]\n",
    "#                 print()\n",
    "                    \n",
    "                    \n",
    "                \n",
    "                \n",
    "            print(new_utility)\n",
    "            break\n",
    "        \n",
    "        # delta = max(delta, np.amax(new_utility))\n",
    "        \n",
    "        \n",
    "        "
   ]
  },
  {
   "cell_type": "code",
   "execution_count": null,
   "id": "5206ff78-95b9-4c18-b9ad-f0b5c885f06a",
   "metadata": {},
   "outputs": [],
   "source": [
    "class Agent:\n",
    "    def __init__(self, pos: Tuple[int, int], model: Maze):\n",
    "        self.pos = pos\n",
    "        self.env = model"
   ]
  },
  {
   "cell_type": "code",
   "execution_count": null,
   "id": "26613040-f656-45cf-9cb9-da923e97b111",
   "metadata": {},
   "outputs": [],
   "source": [
    "start_position = (3, 2)\n",
    "finish_positions = [(0, 3), (3, 0)]\n",
    "\n",
    "rewards = np.array([[-1, -1, -1, 40],\n",
    "                    [-1, -1, -10, -10],\n",
    "                    [-1, -1, -1, -1],\n",
    "                    [10, -2, 0, -1]])\n",
    "\n",
    "# build maze and agent\n",
    "maze = Maze(rewards, finish_positions)\n",
    "agent = Agent(start_position, maze)\n",
    "\n",
    "maze.iterate_values()"
   ]
  },
  {
   "cell_type": "code",
   "execution_count": null,
   "id": "1fb2139f-12d2-47d3-ab7d-7733a8642bfc",
   "metadata": {},
   "outputs": [],
   "source": []
  }
 ],
 "metadata": {
  "kernelspec": {
   "display_name": "Python 3",
   "language": "python",
   "name": "python3"
  },
  "language_info": {
   "codemirror_mode": {
    "name": "ipython",
    "version": 3
   },
   "file_extension": ".py",
   "mimetype": "text/x-python",
   "name": "python",
   "nbconvert_exporter": "python",
   "pygments_lexer": "ipython3",
   "version": "3.8.8"
  }
 },
 "nbformat": 4,
 "nbformat_minor": 5
}
