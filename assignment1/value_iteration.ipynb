{
 "cells": [
  {
   "cell_type": "markdown",
   "id": "0bd3bf0b-a29d-4b68-a839-a3fa6d5fc616",
   "metadata": {},
   "source": []
  },
  {
   "cell_type": "code",
   "execution_count": null,
   "id": "7477f28f-2915-4c93-9bef-e282fa00d8b5",
   "metadata": {},
   "outputs": [],
   "source": [
    "from typing import Tuple\n",
    "import numpy as np"
   ]
  },
  {
   "cell_type": "markdown",
   "id": "42e51d82-ae60-48c2-ae10-f8311e8ed268",
   "metadata": {},
   "source": []
  },
  {
   "cell_type": "code",
   "execution_count": null,
   "id": "01cb2c60-1a81-4c57-90ae-8d02ae46e20f",
   "metadata": {},
   "outputs": [],
   "source": [
    "class Maze:\n",
    "    def __init__(self, R: np.ndarray, discount: float = 0.9):\n",
    "        self.R = R\n",
    "        self.utility = np.zeros(R.shape)\n",
    "        self.discount = discount\n",
    "    \n",
    "    def value_iteration(self):\n",
    "        ..."
   ]
  },
  {
   "cell_type": "code",
   "execution_count": null,
   "id": "5206ff78-95b9-4c18-b9ad-f0b5c885f06a",
   "metadata": {},
   "outputs": [],
   "source": [
    "class Agent:\n",
    "    def __init__(self, pos: Tuple[int, int], model: Maze):\n",
    "        self.pos = pos\n",
    "        self.env = model\n"
   ]
  },
  {
   "cell_type": "code",
   "execution_count": null,
   "id": "26613040-f656-45cf-9cb9-da923e97b111",
   "metadata": {},
   "outputs": [],
   "source": [
    "start_position = (2, 3)\n",
    "rewards = np.array([[-1, -1, -1, 40],\n",
    "                    [-1, -1, -10, -10],\n",
    "                    [-1, -1, -1, -1],\n",
    "                    [10, -2, 0, -1]])\n",
    "\n",
    "# build maze and agent\n",
    "maze = Maze(rewards)\n",
    "agent = Agent(start_position, maze)\n",
    "maze.utility"
   ]
  }
 ],
 "metadata": {
  "kernelspec": {
   "display_name": "Python 3",
   "language": "python",
   "name": "python3"
  },
  "language_info": {
   "codemirror_mode": {
    "name": "ipython",
    "version": 3
   },
   "file_extension": ".py",
   "mimetype": "text/x-python",
   "name": "python",
   "nbconvert_exporter": "python",
   "pygments_lexer": "ipython3",
   "version": "3.8.8"
  }
 },
 "nbformat": 4,
 "nbformat_minor": 5
}
