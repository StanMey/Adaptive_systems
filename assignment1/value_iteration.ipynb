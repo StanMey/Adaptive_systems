{
 "cells": [
  {
   "cell_type": "markdown",
   "id": "0bd3bf0b-a29d-4b68-a839-a3fa6d5fc616",
   "metadata": {},
   "source": [
    "# Model Based Prediction and Control\n",
    "\n",
    "### Sources:\n",
    "- http://www.cs.uu.nl/docs/vakken/b2ki/LastYear/Docs/Slides/mdps-handouts.pdf\n",
    "- https://towardsdatascience.com/how-to-code-the-value-iteration-algorithm-for-reinforcement-learning-8fb806e117d1\n",
    "- https://artint.info/html/ArtInt_227.html"
   ]
  },
  {
   "cell_type": "code",
   "execution_count": 1,
   "id": "7477f28f-2915-4c93-9bef-e282fa00d8b5",
   "metadata": {},
   "outputs": [],
   "source": [
    "from typing import Tuple, List\n",
    "import matplotlib.pyplot as plt\n",
    "import numpy as np\n",
    "import copy\n",
    "import random"
   ]
  },
  {
   "cell_type": "markdown",
   "id": "42e51d82-ae60-48c2-ae10-f8311e8ed268",
   "metadata": {},
   "source": [
    "## Implementatie doolhof en agent"
   ]
  },
  {
   "cell_type": "code",
   "execution_count": 2,
   "id": "01cb2c60-1a81-4c57-90ae-8d02ae46e20f",
   "metadata": {},
   "outputs": [],
   "source": [
    "class Maze:\n",
    "    def __init__(self, R: np.ndarray, end: List[Tuple[int, int]],\n",
    "                 p_action: float = 0.7, discount: float = 0.9, threshold: float = 0.0001):\n",
    "        \"\"\"The init function.\n",
    "        \n",
    "        args:\n",
    "            R (np.ndarray): The array with the rewards per state.\n",
    "            end (List[Tuple[int, int]]): A list with the positions of the end states.\n",
    "            p_action (float, optional): The probability of a succesfull action. Defaults to 0.7.\n",
    "            discount (float, optional): The discount factor. Defaults to 0.9.\n",
    "            threshold (float, optional): The threshold to be used for value iteration. Defaults to 0.0001.\n",
    "        \"\"\"\n",
    "        self.R = R\n",
    "        self.utility = np.zeros(R.shape)\n",
    "        self.end_states = end\n",
    "\n",
    "        self.p_action = p_action\n",
    "        self.discount = discount\n",
    "        self.threshold = threshold\n",
    "    \n",
    "    def __calc_action_value(self, action, other_actions) -> float:\n",
    "        \"\"\"Calculates the action value of a certain action with the succesfullness probability of the actions.\"\"\"\n",
    "        total_value = self.p_action * (self.R[action] + (self.discount * self.utility[action]))\n",
    "        \n",
    "        dist_chance = (1 - self.p_action) / len(other_actions)\n",
    "        \n",
    "        for noise_action in other_actions:\n",
    "            total_value += dist_chance * (self.R[noise_action] + (self.discount * self.utility[noise_action]))\n",
    "        return total_value\n",
    "    \n",
    "    def __get_action_positions(self, current_pos: Tuple[int, int]) -> Tuple[Tuple[int, int], Tuple[int, int], Tuple[int, int], Tuple[int, int]]:\n",
    "        \"\"\"Gets the next position for each action on a certain state.\n",
    "        \n",
    "        args:\n",
    "            current_pos (Tuple[int, int]): The position for which the positions of the next actions should be returned.\n",
    "\n",
    "        returns:\n",
    "            Tuple[Tuple[int, int], Tuple[int, int], Tuple[int, int], Tuple[int, int]]: The next positions after the actions.\n",
    "        \"\"\"\n",
    "        row, col = current_pos\n",
    "\n",
    "        up = (row - 1, col) if row - 1 >= 0 else current_pos\n",
    "        right = (row, col + 1) if col + 1 < self.R.shape[1] else current_pos\n",
    "        left = (row, col -1) if col - 1 >= 0 else current_pos\n",
    "        down = (row + 1, col) if row + 1 < self.R.shape[0] else current_pos\n",
    "        return up, right, left, down\n",
    "    \n",
    "    def get_greedy_policy(self, current_pos: Tuple[int, int]) -> List[int]:\n",
    "        \"\"\"Gets the best policy based on greediness for each state.\n",
    "        \n",
    "        args:\n",
    "            current_pos (Tuple[int, int]): The state for which the policy should be calculated.\n",
    "\n",
    "        returns:\n",
    "            List[int]: The actions to take based on the calculated policy.\n",
    "        \"\"\"\n",
    "        actions = self.__get_action_positions(current_pos)\n",
    "        action_values = []\n",
    "        for index, action in enumerate(actions):\n",
    "            noise_actions = actions[:index] + actions[index+1:]\n",
    "            action_values.append(self.__calc_action_value(action, noise_actions))\n",
    "\n",
    "        # get the index of the max elements \n",
    "        max_elem = max(action_values)\n",
    "        return [1 if i == max_elem else 0 for i in action_values]\n",
    "    \n",
    "    def value_iteration(self):\n",
    "        \"\"\"Value iteration method.\"\"\"\n",
    "        delta = np.inf\n",
    "        # get all positions in the grid\n",
    "        positions = [(i,j) for i in range(self.R.shape[0]) for j in range(self.R.shape[1])]\n",
    "        \n",
    "        while delta > self.threshold:\n",
    "            delta = 0\n",
    "            new_utility = np.zeros(self.utility.shape)\n",
    "            for pos in positions:\n",
    "                # check if we are evaluating an end state\n",
    "                if pos in self.end_states:\n",
    "                    # current position is an end-state so value is 0\n",
    "                    continue\n",
    "\n",
    "                # save the current value\n",
    "                value = self.utility[pos]\n",
    "                # get the next positions of all the actions that can be taken on the current positions\n",
    "                actions = self.__get_action_positions(pos)\n",
    "                action_values = []\n",
    "                for index, action in enumerate(actions):\n",
    "                    noise_actions = actions[:index] + actions[index+1:]\n",
    "                    action_values.append(self.__calc_action_value(action, noise_actions))\n",
    "                \n",
    "                # select the action with the highest utility\n",
    "                highest_utility = max(action_values)\n",
    "                new_utility[pos] = highest_utility\n",
    "                # update the delta\n",
    "                delta = max(delta, abs(value - highest_utility))\n",
    "            \n",
    "            self.utility = copy.deepcopy(new_utility)\n",
    "    \n",
    "    def show_utility(self):\n",
    "        \"\"\"Prints the utility array to the screen.\"\"\"\n",
    "        for row in range(self.utility.shape[0]):\n",
    "            print(\"-------------------------------------\")\n",
    "            out = \"| \"\n",
    "            for col in range(self.utility.shape[1]):\n",
    "                out += str(round(self.utility[(row, col)], 2)).ljust(6) + ' | '\n",
    "            print(out)\n",
    "        print(\"-------------------------------------\")\n",
    "    \n",
    "    def show_policy(self):\n",
    "        \"\"\"Calculates and prints the policy in a matplotlib figure.\"\"\"\n",
    "        for row in range(self.utility.shape[0]):\n",
    "            for col in range(self.utility.shape[1]):\n",
    "                # set the x and y value for the place of the state in the figure\n",
    "                x, y = (col, self.utility.shape[1] - row)\n",
    "                if (row, col) in self.end_states:\n",
    "                    # end state so draw a point\n",
    "                    plt.scatter(x, y, s=40)\n",
    "                else:\n",
    "                    policy = self.get_greedy_policy((row, col))\n",
    "                    for action, direction in zip(policy, [\"up\", \"right\", \"left\", \"down\"]):\n",
    "                        if action:\n",
    "                            # draw an arrow in a direction based on the returned best greedy action\n",
    "                            if direction == \"up\":\n",
    "                                plt.arrow(x, y, dx=0, dy=0.2, width=0.06)\n",
    "                            if direction == \"right\":\n",
    "                                plt.arrow(x, y, dx=0.2, dy=0, width=0.06)\n",
    "                            if direction == \"left\":\n",
    "                                plt.arrow(x, y, dx=-0.2, dy=0, width=0.06)\n",
    "                            if direction == \"down\":\n",
    "                                plt.arrow(x, y, dx=0, dy=-0.2, width=0.06)\n",
    "        plt.axis(\"off\")\n",
    "        plt.show()"
   ]
  },
  {
   "cell_type": "code",
   "execution_count": 3,
   "id": "5206ff78-95b9-4c18-b9ad-f0b5c885f06a",
   "metadata": {},
   "outputs": [],
   "source": [
    "class Agent:\n",
    "    def __init__(self, pos: Tuple[int, int], model: Maze):\n",
    "        \"\"\"The init function.\n",
    "        \n",
    "        args:\n",
    "            pos (Tuple[int, int]): The start state in the environment.\n",
    "            model (Maze): The model which the agent will traverse.\n",
    "        \"\"\"\n",
    "        self.pos = pos\n",
    "        self.env = model\n",
    "        self.actions = [\"up\", \"right\", \"left\", \"down\"]\n",
    "    \n",
    "    def greedy_traversal(self):\n",
    "        \"\"\"Uses the utility and rewards to greedily traverse the environment.\"\"\"\n",
    "        while self.pos not in self.env.end_states:\n",
    "            actions = self.env.get_greedy_policy(self.pos)\n",
    "            action = random.choice([j for i, j in zip(actions, self.actions) if i == 1])\n",
    "            x, y = self.pos\n",
    "            if action == \"up\":\n",
    "                self.pos = (x - 1, y)\n",
    "            elif action == \"right\":\n",
    "                self.pos = (x, y + 1)\n",
    "            elif action == \"left\":\n",
    "                self.pos = (x, y - 1)\n",
    "            else:\n",
    "                self.pos = (x + 1, y)\n",
    "            print(f\"next_pos: {self.pos}; utility: {self.env.utility[self.pos]}; reward: {self.env.R[self.pos]}\")\n",
    "        "
   ]
  },
  {
   "cell_type": "code",
   "execution_count": 4,
   "id": "26613040-f656-45cf-9cb9-da923e97b111",
   "metadata": {},
   "outputs": [],
   "source": [
    "start_state = (3, 2)\n",
    "terminal_states = [(0, 3), (3, 0)]\n",
    "\n",
    "rewards = np.array([[-1, -1, -1, 40],\n",
    "                    [-1, -1, -10, -10],\n",
    "                    [-1, -1, -1, -1],\n",
    "                    [10, -2, -1, -1]])"
   ]
  },
  {
   "cell_type": "markdown",
   "id": "5d32177f-8d2f-46a7-a66f-69be5c4563fb",
   "metadata": {},
   "source": [
    "## Value iteration met deterministisch gedrag\n",
    "Met een deterministische omgeving valt te zien dat de agent uiteindelijk linksom gaat (dus om de lake heen). De agent kan hiervoor kiezen aangezien er geen kans is dat hij, per ongeluk, afdwaald."
   ]
  },
  {
   "cell_type": "code",
   "execution_count": 5,
   "id": "fe879901-8f0f-43d1-8d65-57321fa7e459",
   "metadata": {},
   "outputs": [
    {
     "name": "stdout",
     "output_type": "stream",
     "text": [
      "-------------------------------------\n",
      "| 30.5   | 35.0   | 40.0   | 0.0    | \n",
      "-------------------------------------\n",
      "| 26.45  | 30.5   | 35.0   | 40.0   | \n",
      "-------------------------------------\n",
      "| 22.8   | 26.45  | 22.8   | 26.0   | \n",
      "-------------------------------------\n",
      "| 0.0    | 22.8   | 19.52  | 22.4   | \n",
      "-------------------------------------\n"
     ]
    }
   ],
   "source": [
    "# build maze and agent\n",
    "maze = Maze(rewards, terminal_states, discount=0.9, p_action=1.0, threshold=0.0001)\n",
    "agent = Agent(start_state, maze)\n",
    "\n",
    "maze.value_iteration()\n",
    "maze.show_utility()"
   ]
  },
  {
   "cell_type": "code",
   "execution_count": 6,
   "id": "3f72d235-8d89-42bf-a562-09448022a059",
   "metadata": {},
   "outputs": [
    {
     "data": {
      "image/png": "[encoded data removed]",
      "text/plain": [
       "<Figure size 432x288 with 1 Axes>"
      ]
     },
     "metadata": {
      "needs_background": "light"
     },
     "output_type": "display_data"
    }
   ],
   "source": [
    "maze.show_policy()"
   ]
  },
  {
   "cell_type": "code",
   "execution_count": 7,
   "id": "526c1cd0-4a33-4b1a-9d10-04d733ae2ea3",
   "metadata": {},
   "outputs": [
    {
     "name": "stdout",
     "output_type": "stream",
     "text": [
      "next_pos: (2, 2); utility: 22.805; reward: -1\n",
      "next_pos: (2, 1); utility: 26.45; reward: -1\n",
      "next_pos: (1, 1); utility: 30.5; reward: -1\n",
      "next_pos: (0, 1); utility: 35.0; reward: -1\n",
      "next_pos: (0, 2); utility: 40.0; reward: -1\n",
      "next_pos: (0, 3); utility: 0.0; reward: 40\n"
     ]
    }
   ],
   "source": [
    "agent.greedy_traversal()"
   ]
  },
  {
   "cell_type": "markdown",
   "id": "06bcdc74-5123-453a-9c1e-ac84a6a3df5c",
   "metadata": {},
   "source": [
    "## Value iteration met stochastisch gedrag\n",
    "Met een stochastische omgeving valt te zien dat de agent via de rechterkant omhooggaat naar de uiteindelijke eindstate. Een reden hiervoor zou kunnen zijn dat de kans om linksom te gaan en af te dwalen groot genoeg is om voor zekerheid te kiezen en door een lake te gaan waarbij een flinke reductie in reward wordt afgenomen."
   ]
  },
  {
   "cell_type": "code",
   "execution_count": 8,
   "id": "6a58dbda-815e-4a6f-824b-6c5d9262e05a",
   "metadata": {},
   "outputs": [
    {
     "name": "stdout",
     "output_type": "stream",
     "text": [
      "-------------------------------------\n",
      "| 21.45  | 27.06  | 34.7   | 0.0    | \n",
      "-------------------------------------\n",
      "| 17.1   | 20.39  | 25.97  | 32.74  | \n",
      "-------------------------------------\n",
      "| 13.45  | 15.23  | 13.68  | 17.31  | \n",
      "-------------------------------------\n",
      "| 0.0    | 11.61  | 10.72  | 13.26  | \n",
      "-------------------------------------\n"
     ]
    }
   ],
   "source": [
    "# build maze and agent\n",
    "maze = Maze(rewards, terminal_states, discount=0.9, p_action=0.7, threshold=0.0001)\n",
    "agent = Agent(start_state, maze)\n",
    "\n",
    "maze.value_iteration()\n",
    "maze.show_utility()"
   ]
  },
  {
   "cell_type": "code",
   "execution_count": 9,
   "id": "b1003885-8676-4b8a-9ee6-5c89dd5283a7",
   "metadata": {},
   "outputs": [
    {
     "data": {
      "image/png": "[encoded data removed]",
      "text/plain": [
       "<Figure size 432x288 with 1 Axes>"
      ]
     },
     "metadata": {
      "needs_background": "light"
     },
     "output_type": "display_data"
    }
   ],
   "source": [
    "maze.show_policy()"
   ]
  },
  {
   "cell_type": "code",
   "execution_count": 10,
   "id": "391c80a5-96b8-4bd5-a191-38c637331178",
   "metadata": {},
   "outputs": [
    {
     "name": "stdout",
     "output_type": "stream",
     "text": [
      "next_pos: (2, 2); utility: 13.67819889239863; reward: -1\n",
      "next_pos: (2, 3); utility: 17.309369174520658; reward: -1\n",
      "next_pos: (1, 3); utility: 32.74204447002307; reward: -10\n",
      "next_pos: (0, 3); utility: 0.0; reward: 40\n"
     ]
    }
   ],
   "source": [
    "agent.greedy_traversal()"
   ]
  }
 ],
 "metadata": {
  "kernelspec": {
   "display_name": "Python 3",
   "language": "python",
   "name": "python3"
  },
  "language_info": {
   "codemirror_mode": {
    "name": "ipython",
    "version": 3
   },
   "file_extension": ".py",
   "mimetype": "text/x-python",
   "name": "python",
   "nbconvert_exporter": "python",
   "pygments_lexer": "ipython3",
   "version": "3.8.8"
  }
 },
 "nbformat": 4,
 "nbformat_minor": 5
}
