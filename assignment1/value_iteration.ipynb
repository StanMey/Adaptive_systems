{
 "cells": [
  {
   "cell_type": "markdown",
   "id": "0bd3bf0b-a29d-4b68-a839-a3fa6d5fc616",
   "metadata": {},
   "source": [
    "# Value Iteration example\n",
    "\n",
    "### Sources:\n",
    "- http://www.cs.uu.nl/docs/vakken/b2ki/LastYear/Docs/Slides/mdps-handouts.pdf"
   ]
  },
  {
   "cell_type": "code",
   "execution_count": null,
   "id": "7477f28f-2915-4c93-9bef-e282fa00d8b5",
   "metadata": {},
   "outputs": [],
   "source": [
    "from typing import Tuple, List\n",
    "import numpy as np\n",
    "import copy"
   ]
  },
  {
   "cell_type": "markdown",
   "id": "42e51d82-ae60-48c2-ae10-f8311e8ed268",
   "metadata": {},
   "source": []
  },
  {
   "cell_type": "code",
   "execution_count": null,
   "id": "01cb2c60-1a81-4c57-90ae-8d02ae46e20f",
   "metadata": {},
   "outputs": [],
   "source": [
    "class Maze:\n",
    "    def __init__(self, R: np.ndarray, end: List[Tuple[int, int]],\n",
    "                 noise: float = 0.7, discount: float = 0.9, threshold: float = 0.0001):\n",
    "        self.R = R\n",
    "        self.utility = np.zeros(R.shape)\n",
    "        self.end_states = end\n",
    "\n",
    "        self.noise = noise\n",
    "        self.discount = discount\n",
    "        self.threshold = threshold\n",
    "    \n",
    "    def __calc_action_value(self, action, other_actions):\n",
    "        \"\"\"\"\"\"\n",
    "        total_value = self.noise * (self.R[action] + (self.discount * self.utility[action]))\n",
    "        \n",
    "        dist_chance = (1 - self.noise) / len(other_actions)\n",
    "        \n",
    "        for noise_action in other_actions:\n",
    "            total_value += dist_chance * (self.R[noise_action] + (self.discount * self.utility[noise_action]))\n",
    "        return total_value\n",
    "    \n",
    "    def __get_action_positions(self, current_pos: Tuple[int, int]):\n",
    "        \"\"\"\"\"\"\n",
    "        row, col = current_pos\n",
    "\n",
    "        up = (row - 1, col) if row - 1 >= 0 else current_pos\n",
    "        right = (row, col + 1) if col + 1 < self.R.shape[1] else current_pos\n",
    "        left = (row, col -1) if col - 1 >= 0 else current_pos\n",
    "        down = (row + 1, col) if row + 1 < self.R.shape[0] else current_pos\n",
    "        return up, right, left, down\n",
    "    \n",
    "    def value_iteration(self):\n",
    "        \"\"\"Value iteration method.\"\"\"\n",
    "        delta = np.inf\n",
    "        # get all positions in the grid\n",
    "        positions = [(i,j) for i in range(self.R.shape[0]) for j in range(self.R.shape[1])]\n",
    "        \n",
    "        while delta > self.threshold:\n",
    "            delta = 0\n",
    "            new_utility = np.zeros(self.utility.shape)\n",
    "            for pos in positions:\n",
    "                # check if we are evaluating an end state\n",
    "                if pos in self.end_states:\n",
    "                    # current position is an end-state so value is 0\n",
    "                    continue\n",
    "\n",
    "                # save the current value\n",
    "                value = self.utility[pos]\n",
    "                # get the next positions of all the actions that can be taken on the current positions\n",
    "                actions = self.__get_action_positions(pos)\n",
    "                action_values = []\n",
    "                for index, action in enumerate(actions):\n",
    "                    noise_actions = actions[:index] + actions[index+1:]\n",
    "                    action_values.append(self.__calc_action_value(action, noise_actions))\n",
    "                \n",
    "                # select the action with the highest utility\n",
    "                highest_utility = max(action_values)\n",
    "                new_utility[pos] = highest_utility\n",
    "                # update the delta\n",
    "                delta = max(delta, abs(value - highest_utility))\n",
    "            \n",
    "            self.utility = copy.deepcopy(new_utility)\n",
    "    \n",
    "    def show_utility(self):\n",
    "        \"\"\"Prints the utility array to the screen.\"\"\"\n",
    "        for row in range(self.utility.shape[0]):\n",
    "            print(\"-------------------------------------\")\n",
    "            out = \"| \"\n",
    "            for col in range(self.utility.shape[1]):\n",
    "                out += str(round(self.utility[(row, col)], 2)).ljust(6) + ' | '\n",
    "            print(out)\n",
    "        print(\"-------------------------------------\")\n",
    "    \n",
    "    def show_policy(self):\n",
    "        ..."
   ]
  },
  {
   "cell_type": "code",
   "execution_count": null,
   "id": "5206ff78-95b9-4c18-b9ad-f0b5c885f06a",
   "metadata": {},
   "outputs": [],
   "source": [
    "class Agent:\n",
    "    def __init__(self, pos: Tuple[int, int], model: Maze):\n",
    "        self.pos = pos\n",
    "        self.env = model"
   ]
  },
  {
   "cell_type": "code",
   "execution_count": null,
   "id": "26613040-f656-45cf-9cb9-da923e97b111",
   "metadata": {},
   "outputs": [],
   "source": [
    "start_state = (3, 2)\n",
    "terminal_states = [(0, 3), (3, 0)]\n",
    "\n",
    "rewards = np.array([[-1, -1, -1, 40],\n",
    "                    [-1, -1, -10, -10],\n",
    "                    [-1, -1, -1, -1],\n",
    "                    [10, -2, -1, -1]])\n",
    "\n",
    "# build maze and agent\n",
    "maze = Maze(rewards, terminal_states, discount=0.9)\n",
    "agent = Agent(start_state, maze)\n",
    "\n",
    "maze.value_iteration()\n",
    "maze.show_utility()\n",
    "# maze.show_policy()"
   ]
  },
  {
   "cell_type": "markdown",
   "id": "aef03cca-a819-4546-8724-80f26967e6a1",
   "metadata": {},
   "source": [
    "### Unittest"
   ]
  },
  {
   "cell_type": "code",
   "execution_count": null,
   "id": "12f7ce93-3936-4256-a1fd-8055f2fba340",
   "metadata": {},
   "outputs": [],
   "source": []
  }
 ],
 "metadata": {
  "kernelspec": {
   "display_name": "Python 3",
   "language": "python",
   "name": "python3"
  },
  "language_info": {
   "codemirror_mode": {
    "name": "ipython",
    "version": 3
   },
   "file_extension": ".py",
   "mimetype": "text/x-python",
   "name": "python",
   "nbconvert_exporter": "python",
   "pygments_lexer": "ipython3",
   "version": "3.8.8"
  }
 },
 "nbformat": 4,
 "nbformat_minor": 5
}
